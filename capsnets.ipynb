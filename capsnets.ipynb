{
  "cells": [
    {
      "cell_type": "markdown",
      "metadata": {
        "id": "view-in-github",
        "colab_type": "text"
      },
      "source": [
        "<a href=\"https://colab.research.google.com/github/shweta1290/Data-science/blob/main/capsnets.ipynb\" target=\"_parent\"><img src=\"https://colab.research.google.com/assets/colab-badge.svg\" alt=\"Open In Colab\"/></a>"
      ]
    },
    {
      "cell_type": "markdown",
      "metadata": {
        "id": "utCUthHSnGLd"
      },
      "source": [
        "**Capsule Networks (CapsNets)**"
      ]
    },
    {
      "cell_type": "markdown",
      "metadata": {
        "id": "jMEH_GEhnGLe"
      },
      "source": [
        "*Based on the paper: [Dynamic Routing Between Capsules](https://arxiv.org/abs/1710.09829), by Sara Sabour, Nicholas Frosst and Geoffrey E. Hinton (NIPS 2017).*"
      ]
    },
    {
      "cell_type": "markdown",
      "metadata": {
        "id": "Y6eqsAjrnGLe"
      },
      "source": [
        "*Inspired in part from Huadong Liao's implementation: [CapsNet-TensorFlow](https://github.com/naturomics/CapsNet-Tensorflow).and (https://github.com/ageron/handson-ml2)*"
      ]
    },
    {
      "cell_type": "markdown",
      "metadata": {
        "id": "DACupsQlnGLf"
      },
      "source": [
        "# Introduction"
      ]
    },
    {
      "cell_type": "markdown",
      "source": [
        "There are various problems with CNN which is CNN does not have translation equivariance that is if an image has features of a face like eyes nose etc randomly placed not in a facial structure it will still classify it as a face.Relative position cannot be identified in CNN\n",
        "\n",
        "So we move to Capsule .They are small group of neurons where each neuron gives property of a particular image part.Every capsule outputs a vector **u** which has a magnitude and a direction.Between 0 and 1 if not we use squashing.\n",
        "\n",
        "**magnitude**->probability that a particular part of image is present or not\n",
        "\n",
        "**direction**->properties of region (color, width,angle,height etc)\n",
        "\n",
        "Disadvantages of CNN are overcome with the help of Dynamic routing.In capsule network we have additional routing coefficient (**c**) multiplied with weights (**w**).Where c is calculated using similarity(dot product) between different u and their resulatant vector s."
      ],
      "metadata": {
        "id": "fVzWPmOEHRXV"
      }
    },
    {
      "cell_type": "markdown",
      "metadata": {
        "id": "gSyG7LCjnGLg"
      },
      "source": [
        "# Imports"
      ]
    },
    {
      "cell_type": "markdown",
      "metadata": {
        "id": "GffIgr5xnGLg"
      },
      "source": [
        "To support both Python 2 and Python 3:"
      ]
    },
    {
      "cell_type": "code",
      "execution_count": 7,
      "metadata": {
        "id": "KvN2qYFunGLg"
      },
      "outputs": [],
      "source": [
        "from __future__ import division, print_function, unicode_literals"
      ]
    },
    {
      "cell_type": "markdown",
      "metadata": {
        "id": "APoMRAjmnGLh"
      },
      "source": [
        "To plot pretty figures:"
      ]
    },
    {
      "cell_type": "code",
      "execution_count": 8,
      "metadata": {
        "id": "q15-4xz2nGLh"
      },
      "outputs": [],
      "source": [
        "%matplotlib inline\n",
        "import matplotlib\n",
        "import matplotlib.pyplot as plt"
      ]
    },
    {
      "cell_type": "markdown",
      "metadata": {
        "id": "lFArh7HDnGLh"
      },
      "source": [
        "We will need NumPy and TensorFlow:"
      ]
    },
    {
      "cell_type": "code",
      "execution_count": 9,
      "metadata": {
        "id": "U6Cf13g2nGLh"
      },
      "outputs": [],
      "source": [
        "import tensorflow.compat.v1 as tf\n",
        "tf.disable_v2_behavior()\n",
        "import numpy as np\n"
      ]
    },
    {
      "cell_type": "markdown",
      "metadata": {
        "id": "s_gZHrhxnGLh"
      },
      "source": [
        "# Reproducibility"
      ]
    },
    {
      "cell_type": "markdown",
      "metadata": {
        "id": "EuJK4J4dnGLh"
      },
      "source": [
        "Let's reset the default graph, in case you re-run this notebook without restarting the kernel:"
      ]
    },
    {
      "cell_type": "code",
      "execution_count": 10,
      "metadata": {
        "id": "YZxpdadgnGLh"
      },
      "outputs": [],
      "source": [
        "tf.reset_default_graph()"
      ]
    },
    {
      "cell_type": "markdown",
      "metadata": {
        "id": "pgp2hXYdnGLh"
      },
      "source": [
        "Let's set the random seeds so that this notebook always produces the same output:"
      ]
    },
    {
      "cell_type": "code",
      "execution_count": 11,
      "metadata": {
        "id": "nvcjQz5LnGLh"
      },
      "outputs": [],
      "source": [
        "np.random.seed(42)\n",
        "tf.set_random_seed(42)"
      ]
    },
    {
      "cell_type": "markdown",
      "metadata": {
        "id": "rFL-DfPNnGLi"
      },
      "source": [
        "# Load MNIST"
      ]
    },
    {
      "cell_type": "markdown",
      "metadata": {
        "id": "kRz3UUBdnGLi"
      },
      "source": [
        "Yes, I know, it's MNIST again. But hopefully this powerful idea will work as well on larger datasets, time will tell."
      ]
    },
    {
      "cell_type": "code",
      "execution_count": 12,
      "metadata": {
        "id": "5mX92ilOnGLi",
        "outputId": "617dfb6f-2969-4768-b4e9-f2bf6201271c",
        "colab": {
          "base_uri": "https://localhost:8080/"
        }
      },
      "outputs": [
        {
          "output_type": "stream",
          "name": "stderr",
          "text": [
            "WARNING:tensorflow:From <ipython-input-12-93c2b6bf3b0c>:3: read_data_sets (from input_data) is deprecated and will be removed in a future version.\n",
            "Instructions for updating:\n",
            "Please use alternatives such as: tensorflow_datasets.load('mnist')\n",
            "WARNING:tensorflow:From /content/input_data.py:296: _maybe_download (from input_data) is deprecated and will be removed in a future version.\n",
            "Instructions for updating:\n",
            "Please write your own downloading logic.\n",
            "WARNING:tensorflow:From /content/input_data.py:299: _extract_images (from input_data) is deprecated and will be removed in a future version.\n",
            "Instructions for updating:\n",
            "Please use tf.data to implement this functionality.\n"
          ]
        },
        {
          "output_type": "stream",
          "name": "stdout",
          "text": [
            "Successfully downloaded train-images-idx3-ubyte.gz 9912422 bytes.\n",
            "Extracting /tmp/data/train-images-idx3-ubyte.gz\n"
          ]
        },
        {
          "output_type": "stream",
          "name": "stderr",
          "text": [
            "WARNING:tensorflow:From /content/input_data.py:304: _extract_labels (from input_data) is deprecated and will be removed in a future version.\n",
            "Instructions for updating:\n",
            "Please use tf.data to implement this functionality.\n"
          ]
        },
        {
          "output_type": "stream",
          "name": "stdout",
          "text": [
            "Successfully downloaded train-labels-idx1-ubyte.gz 28881 bytes.\n",
            "Extracting /tmp/data/train-labels-idx1-ubyte.gz\n"
          ]
        },
        {
          "output_type": "stream",
          "name": "stderr",
          "text": [
            "WARNING:tensorflow:From /content/input_data.py:328: _DataSet.__init__ (from input_data) is deprecated and will be removed in a future version.\n",
            "Instructions for updating:\n",
            "Please use alternatives such as official/mnist/_DataSet.py from tensorflow/models.\n"
          ]
        },
        {
          "output_type": "stream",
          "name": "stdout",
          "text": [
            "Successfully downloaded t10k-images-idx3-ubyte.gz 1648877 bytes.\n",
            "Extracting /tmp/data/t10k-images-idx3-ubyte.gz\n",
            "Successfully downloaded t10k-labels-idx1-ubyte.gz 4542 bytes.\n",
            "Extracting /tmp/data/t10k-labels-idx1-ubyte.gz\n"
          ]
        }
      ],
      "source": [
        "import input_data\n",
        "\n",
        "mnist = input_data.read_data_sets(\"/tmp/data/\")"
      ]
    },
    {
      "cell_type": "markdown",
      "metadata": {
        "id": "QpEO9OSznGLi"
      },
      "source": [
        "Let's look at what these hand-written digit images look like:"
      ]
    },
    {
      "cell_type": "code",
      "execution_count": 13,
      "metadata": {
        "id": "WnGTldeanGLi",
        "outputId": "3e0c3094-d462-4876-c40f-89d375a763c1",
        "colab": {
          "base_uri": "https://localhost:8080/",
          "height": 170
        }
      },
      "outputs": [
        {
          "output_type": "display_data",
          "data": {
            "text/plain": [
              "<Figure size 1000x300 with 5 Axes>"
            ],
            "image/png": "[encoded data removed]"
          },
          "metadata": {}
        }
      ],
      "source": [
        "n_samples = 5\n",
        "\n",
        "plt.figure(figsize=(n_samples * 2, 3))\n",
        "for index in range(n_samples):\n",
        "    plt.subplot(1, n_samples, index + 1)\n",
        "    sample_image = mnist.train.images[index].reshape(28, 28)\n",
        "    plt.imshow(sample_image, cmap=\"binary\")\n",
        "    plt.axis(\"off\")\n",
        "\n",
        "plt.show()"
      ]
    },
    {
      "cell_type": "markdown",
      "metadata": {
        "id": "wXf6xzBGnGLi"
      },
      "source": [
        "And these are the corresponding labels:"
      ]
    },
    {
      "cell_type": "code",
      "execution_count": 14,
      "metadata": {
        "id": "lrfK3x3BnGLi",
        "outputId": "9ace28b6-4f43-4123-f357-5d28ca30844e",
        "colab": {
          "base_uri": "https://localhost:8080/"
        }
      },
      "outputs": [
        {
          "output_type": "execute_result",
          "data": {
            "text/plain": [
              "array([7, 3, 4, 6, 1], dtype=uint8)"
            ]
          },
          "metadata": {},
          "execution_count": 14
        }
      ],
      "source": [
        "mnist.train.labels[:n_samples]"
      ]
    },
    {
      "cell_type": "markdown",
      "metadata": {
        "id": "qZuF7f6WnGLi"
      },
      "source": [
        "Now let's build a Capsule Network to classify these images."
      ]
    },
    {
      "cell_type": "markdown",
      "metadata": {
        "id": "ejOo2TpznGLj"
      },
      "source": [
        "```\n",
        "                            Loss\n",
        "                              ↑\n",
        "                    ┌─────────┴─────────┐\n",
        "      Labels → Margin Loss      Reconstruction Loss\n",
        "                    ↑                   ↑\n",
        "                  Length             Decoder\n",
        "                    ↑                   ↑\n",
        "             Digit Capsules ────Mask────┘\n",
        "               ↖↑↗ ↖↑↗ ↖↑↗\n",
        "             Primary Capsules\n",
        "                    ↑      \n",
        "               Input Images\n",
        "```"
      ]
    },
    {
      "cell_type": "markdown",
      "metadata": {
        "id": "ewGAXpaNnGLj"
      },
      "source": [
        "We are going to build the graph starting from the bottom layer, and gradually move up, left side first. Let's go!"
      ]
    },
    {
      "cell_type": "markdown",
      "metadata": {
        "id": "vkP6rx2lnGLj"
      },
      "source": [
        "# Input Images"
      ]
    },
    {
      "cell_type": "markdown",
      "metadata": {
        "id": "mnYJV7CPnGLj"
      },
      "source": [
        "Let's start by creating a placeholder for the input images (28×28 pixels, 1 color channel = grayscale)."
      ]
    },
    {
      "cell_type": "code",
      "execution_count": 15,
      "metadata": {
        "id": "QtVLqWEhnGLj"
      },
      "outputs": [],
      "source": [
        "X = tf.placeholder(shape=[None, 28, 28, 1], dtype=tf.float32, name=\"X\")"
      ]
    },
    {
      "cell_type": "markdown",
      "metadata": {
        "id": "fhp2kerJnGLj"
      },
      "source": [
        "# Primary Capsules"
      ]
    },
    {
      "cell_type": "markdown",
      "metadata": {
        "id": "AOJxu8-QnGLj"
      },
      "source": [
        "The first layer will be composed of 32 maps of 6×6 capsules each, where each capsule will output an 8D activation vector:"
      ]
    },
    {
      "cell_type": "code",
      "execution_count": 16,
      "metadata": {
        "id": "0czaM8ZLnGLj"
      },
      "outputs": [],
      "source": [
        "caps1_n_maps = 32\n",
        "caps1_n_caps = caps1_n_maps * 6 * 6  # 1152 primary capsules\n",
        "caps1_n_dims = 8"
      ]
    },
    {
      "cell_type": "markdown",
      "metadata": {
        "id": "qAaKQrNmnGLk"
      },
      "source": [
        "To compute their outputs, we first apply two regular convolutional layers:"
      ]
    },
    {
      "cell_type": "code",
      "execution_count": 17,
      "metadata": {
        "id": "h1wjs7bFnGLn"
      },
      "outputs": [],
      "source": [
        "conv1_params = {\n",
        "    \"filters\": 256,\n",
        "    \"kernel_size\": 9,\n",
        "    \"strides\": 1,\n",
        "    \"padding\": \"valid\",\n",
        "    \"activation\": tf.nn.relu,\n",
        "}\n",
        "\n",
        "conv2_params = {\n",
        "    \"filters\": caps1_n_maps * caps1_n_dims, # 256 convolutional filters\n",
        "    \"kernel_size\": 9,\n",
        "    \"strides\": 2,\n",
        "    \"padding\": \"valid\",\n",
        "    \"activation\": tf.nn.relu\n",
        "}"
      ]
    },
    {
      "cell_type": "code",
      "execution_count": 18,
      "metadata": {
        "id": "GLZV1FdAnGLn",
        "outputId": "63b08666-57d7-4a70-ae66-7a608270ba07",
        "colab": {
          "base_uri": "https://localhost:8080/"
        }
      },
      "outputs": [
        {
          "output_type": "stream",
          "name": "stderr",
          "text": [
            "<ipython-input-18-3a2df923b7cc>:1: UserWarning: `tf.layers.conv2d` is deprecated and will be removed in a future version. Please Use `tf.keras.layers.Conv2D` instead.\n",
            "  conv1 = tf.layers.conv2d(X, name=\"conv1\", **conv1_params)\n",
            "<ipython-input-18-3a2df923b7cc>:2: UserWarning: `tf.layers.conv2d` is deprecated and will be removed in a future version. Please Use `tf.keras.layers.Conv2D` instead.\n",
            "  conv2 = tf.layers.conv2d(conv1, name=\"conv2\", **conv2_params)\n"
          ]
        }
      ],
      "source": [
        "conv1 = tf.layers.conv2d(X, name=\"conv1\", **conv1_params)\n",
        "conv2 = tf.layers.conv2d(conv1, name=\"conv2\", **conv2_params)"
      ]
    },
    {
      "cell_type": "markdown",
      "metadata": {
        "id": "XwFnhC-znGLn"
      },
      "source": [
        "Note: since we used a kernel size of 9 and no padding (for some reason, that's what `\"valid\"` means), the image shrunk by 9-1=8 pixels after each convolutional layer (28×28 to 20×20, then 20×20 to 12×12), and since we used a stride of 2 in the second convolutional layer, the image size was divided by 2. This is how we end up with 6×6 feature maps."
      ]
    },
    {
      "cell_type": "markdown",
      "metadata": {
        "id": "3rOxh7jdnGLn"
      },
      "source": [
        "Next, we reshape the output to get a bunch of 8D vectors representing the outputs of the primary capsules. The output of `conv2` is an array containing 32×8=256 feature maps for each instance, where each feature map is 6×6. So the shape of this output is (_batch size_, 6, 6, 256). We want to chop the 256 into 32 vectors of 8 dimensions each. We could do this by reshaping to (_batch size_, 6, 6, 32, 8). However, since this first capsule layer will be fully connected to the next capsule layer, we can simply flatten the 6×6 grids. This means we just need to reshape to (_batch size_, 6×6×32, 8)."
      ]
    },
    {
      "cell_type": "code",
      "execution_count": 19,
      "metadata": {
        "id": "8BYnH9NFnGLn"
      },
      "outputs": [],
      "source": [
        "caps1_raw = tf.reshape(conv2, [-1, caps1_n_caps, caps1_n_dims],\n",
        "                       name=\"caps1_raw\")"
      ]
    },
    {
      "cell_type": "markdown",
      "metadata": {
        "id": "0WgM8N0YnGLn"
      },
      "source": [
        "Now we need to squash these vectors. Let's define the `squash()` function, based on equation (1) from the paper:\n",
        "\n",
        "$\\operatorname{squash}(\\mathbf{s}) = \\dfrac{\\|\\mathbf{s}\\|^2}{1 + \\|\\mathbf{s}\\|^2} \\dfrac{\\mathbf{s}}{\\|\\mathbf{s}\\|}$\n",
        "\n",
        "The `squash()` function will squash all vectors in the given array, along the given axis (by default, the last axis).\n",
        "\n",
        "**Caution**, a nasty bug is waiting to bite you: the derivative of $\\|\\mathbf{s}\\|$ is undefined when $\\|\\mathbf{s}\\|=0$, so we can't just use `tf.norm()`, or else it will blow up during training: if a vector is zero, the gradients will be `nan`, so when the optimizer updates the variables, they will also become `nan`, and from then on you will be stuck in `nan` land. The solution is to implement the norm manually by computing the square root of the sum of squares plus a tiny epsilon value: $\\|\\mathbf{s}\\| \\approx \\sqrt{\\sum\\limits_i{{s_i}^2}\\,\\,+ \\epsilon}$."
      ]
    },
    {
      "cell_type": "code",
      "execution_count": 20,
      "metadata": {
        "id": "2CLS-uQGnGLo"
      },
      "outputs": [],
      "source": [
        "def squash(s, axis=-1, epsilon=1e-7, name=None):\n",
        "    with tf.name_scope(name, default_name=\"squash\"):\n",
        "        squared_norm = tf.reduce_sum(tf.square(s), axis=axis,\n",
        "                                     keep_dims=True)\n",
        "        safe_norm = tf.sqrt(squared_norm + epsilon)\n",
        "        squash_factor = squared_norm / (1. + squared_norm)\n",
        "        unit_vector = s / safe_norm\n",
        "        return squash_factor * unit_vector"
      ]
    },
    {
      "cell_type": "markdown",
      "metadata": {
        "id": "WAYD__knnGLo"
      },
      "source": [
        "Now let's apply this function to get the output $\\mathbf{u}_i$ of each primary capsules $i$ :"
      ]
    },
    {
      "cell_type": "code",
      "execution_count": 21,
      "metadata": {
        "id": "nigd0yjDnGLo",
        "colab": {
          "base_uri": "https://localhost:8080/"
        },
        "outputId": "611f285f-88a2-40c7-e550-14df22521778"
      },
      "outputs": [
        {
          "output_type": "stream",
          "name": "stderr",
          "text": [
            "WARNING:tensorflow:From /usr/local/lib/python3.10/dist-packages/tensorflow/python/util/dispatch.py:1260: calling reduce_sum_v1 (from tensorflow.python.ops.math_ops) with keep_dims is deprecated and will be removed in a future version.\n",
            "Instructions for updating:\n",
            "keep_dims is deprecated, use keepdims instead\n"
          ]
        }
      ],
      "source": [
        "caps1_output = squash(caps1_raw, name=\"caps1_output\")"
      ]
    },
    {
      "cell_type": "markdown",
      "metadata": {
        "id": "iIR2I3R7nGLo"
      },
      "source": [
        "Great! We have the output of the first capsule layer. It wasn't too hard, was it? However, computing the next layer is where the fun really begins."
      ]
    },
    {
      "cell_type": "markdown",
      "metadata": {
        "id": "qmhx_Z9KnGLo"
      },
      "source": [
        "# Digit Capsules"
      ]
    },
    {
      "cell_type": "markdown",
      "metadata": {
        "id": "G7T892QrnGLo"
      },
      "source": [
        "To compute the output of the digit capsules, we must first compute the predicted output vectors (one for each primary / digit capsule pair). Then we can run the routing by agreement algorithm."
      ]
    },
    {
      "cell_type": "markdown",
      "metadata": {
        "id": "NEwkHvzAnGLo"
      },
      "source": [
        "## Compute the Predicted Output Vectors"
      ]
    },
    {
      "cell_type": "markdown",
      "metadata": {
        "id": "caSmsdojnGLo"
      },
      "source": [
        "The digit capsule layer contains 10 capsules (one for each digit) of 16 dimensions each:"
      ]
    },
    {
      "cell_type": "code",
      "execution_count": 22,
      "metadata": {
        "id": "l9CnVNFLnGLo"
      },
      "outputs": [],
      "source": [
        "caps2_n_caps = 10\n",
        "caps2_n_dims = 16"
      ]
    },
    {
      "cell_type": "markdown",
      "metadata": {
        "id": "taGv9ZJynGLo"
      },
      "source": [
        "For each capsule $i$ in the first layer, we want to predict the output of every capsule $j$ in the second layer. For this, we will need a transformation matrix $\\mathbf{W}_{i,j}$ (one for each pair of capsules ($i$, $j$)), then we can compute the predicted output $\\hat{\\mathbf{u}}_{j|i} = \\mathbf{W}_{i,j} \\, \\mathbf{u}_i$ (equation (2)-right in the paper). Since we want to transform an 8D vector into a 16D vector, each transformation matrix $\\mathbf{W}_{i,j}$ must have a shape of (16, 8)."
      ]
    },
    {
      "cell_type": "markdown",
      "metadata": {
        "id": "XUNgks2TnGLp"
      },
      "source": [
        "To compute $\\hat{\\mathbf{u}}_{j|i}$ for every pair of capsules ($i$, $j$), we will use a nice feature of the `tf.matmul()` function: you probably know that it lets you multiply two matrices, but you may not know that it also lets you multiply higher dimensional arrays. It treats the arrays as arrays of matrices, and it performs itemwise matrix multiplication. For example, suppose you have two 4D arrays, each containing a 2×3 grid of matrices. The first contains matrices $\\mathbf{A}, \\mathbf{B}, \\mathbf{C}, \\mathbf{D}, \\mathbf{E}, \\mathbf{F}$ and the second contains matrices $\\mathbf{G}, \\mathbf{H}, \\mathbf{I}, \\mathbf{J}, \\mathbf{K}, \\mathbf{L}$. If you multiply these two 4D arrays using the `tf.matmul()` function, this is what you get:\n",
        "\n",
        "$\n",
        "\\pmatrix{\n",
        "\\mathbf{A} & \\mathbf{B} & \\mathbf{C} \\\\\n",
        "\\mathbf{D} & \\mathbf{E} & \\mathbf{F}\n",
        "} \\times\n",
        "\\pmatrix{\n",
        "\\mathbf{G} & \\mathbf{H} & \\mathbf{I} \\\\\n",
        "\\mathbf{J} & \\mathbf{K} & \\mathbf{L}\n",
        "} = \\pmatrix{\n",
        "\\mathbf{AG} & \\mathbf{BH} & \\mathbf{CI} \\\\\n",
        "\\mathbf{DJ} & \\mathbf{EK} & \\mathbf{FL}\n",
        "}\n",
        "$"
      ]
    },
    {
      "cell_type": "markdown",
      "metadata": {
        "id": "G63DGCZNnGLp"
      },
      "source": [
        "We can apply this function to compute $\\hat{\\mathbf{u}}_{j|i}$ for every pair of capsules ($i$, $j$) like this (recall that there are 6×6×32=1152 capsules in the first layer, and 10 in the second layer):\n",
        "\n",
        "$\n",
        "\\pmatrix{\n",
        "  \\mathbf{W}_{1,1} & \\mathbf{W}_{1,2} & \\cdots & \\mathbf{W}_{1,10} \\\\\n",
        "  \\mathbf{W}_{2,1} & \\mathbf{W}_{2,2} & \\cdots & \\mathbf{W}_{2,10} \\\\\n",
        "  \\vdots & \\vdots & \\ddots & \\vdots \\\\\n",
        "  \\mathbf{W}_{1152,1} & \\mathbf{W}_{1152,2} & \\cdots & \\mathbf{W}_{1152,10}\n",
        "} \\times\n",
        "\\pmatrix{\n",
        "  \\mathbf{u}_1 & \\mathbf{u}_1 & \\cdots & \\mathbf{u}_1 \\\\\n",
        "  \\mathbf{u}_2 & \\mathbf{u}_2 & \\cdots & \\mathbf{u}_2 \\\\\n",
        "  \\vdots & \\vdots & \\ddots & \\vdots \\\\\n",
        "  \\mathbf{u}_{1152} & \\mathbf{u}_{1152} & \\cdots & \\mathbf{u}_{1152}\n",
        "}\n",
        "=\n",
        "\\pmatrix{\n",
        "\\hat{\\mathbf{u}}_{1|1} & \\hat{\\mathbf{u}}_{2|1} & \\cdots & \\hat{\\mathbf{u}}_{10|1} \\\\\n",
        "\\hat{\\mathbf{u}}_{1|2} & \\hat{\\mathbf{u}}_{2|2} & \\cdots & \\hat{\\mathbf{u}}_{10|2} \\\\\n",
        "\\vdots & \\vdots & \\ddots & \\vdots \\\\\n",
        "\\hat{\\mathbf{u}}_{1|1152} & \\hat{\\mathbf{u}}_{2|1152} & \\cdots & \\hat{\\mathbf{u}}_{10|1152}\n",
        "}\n",
        "$\n"
      ]
    },
    {
      "cell_type": "markdown",
      "metadata": {
        "id": "qTBe1MWpnGLp"
      },
      "source": [
        "The shape of the first array is (1152, 10, 16, 8), and the shape of the second array is (1152, 10, 8, 1). Note that the second array must contain 10 identical copies of the vectors $\\mathbf{u}_1$ to $\\mathbf{u}_{1152}$. To create this array, we will use the handy `tf.tile()` function, which lets you create an array containing many copies of a base array, tiled in any way you want."
      ]
    },
    {
      "cell_type": "markdown",
      "metadata": {
        "id": "aQKXvyk8nGLp"
      },
      "source": [
        "Oh, wait a second! We forgot one dimension: _batch size_. Say we feed 50 images to the capsule network, it will make predictions for these 50 images simultaneously. So the shape of the first array must be (50, 1152, 10, 16, 8), and the shape of the second array must be (50, 1152, 10, 8, 1). The first layer capsules actually already output predictions for all 50 images, so the second array will be fine, but for the first array, we will need to use `tf.tile()` to have 50 copies of the transformation matrices."
      ]
    },
    {
      "cell_type": "markdown",
      "metadata": {
        "id": "XSRZ-EZEnGLp"
      },
      "source": [
        "Okay, let's start by creating a trainable variable of shape (1, 1152, 10, 16, 8) that will hold all the transformation matrices. The first dimension of size 1 will make this array easy to tile. We initialize this variable randomly using a normal distribution with a standard deviation to 0.1."
      ]
    },
    {
      "cell_type": "code",
      "execution_count": 23,
      "metadata": {
        "id": "Mn65vSKGnGLp"
      },
      "outputs": [],
      "source": [
        "init_sigma = 0.1\n",
        "\n",
        "W_init = tf.random_normal(\n",
        "    shape=(1, caps1_n_caps, caps2_n_caps, caps2_n_dims, caps1_n_dims),\n",
        "    stddev=init_sigma, dtype=tf.float32, name=\"W_init\")\n",
        "W = tf.Variable(W_init, name=\"W\")"
      ]
    },
    {
      "cell_type": "markdown",
      "metadata": {
        "id": "pm-VkKbwnGLp"
      },
      "source": [
        "Now we can create the first array by repeating `W` once per instance:"
      ]
    },
    {
      "cell_type": "code",
      "execution_count": 24,
      "metadata": {
        "id": "fuWWwhf9nGLp"
      },
      "outputs": [],
      "source": [
        "batch_size = tf.shape(X)[0]\n",
        "W_tiled = tf.tile(W, [batch_size, 1, 1, 1, 1], name=\"W_tiled\")"
      ]
    },
    {
      "cell_type": "markdown",
      "metadata": {
        "id": "Zxk0JejnnGLp"
      },
      "source": [
        "That's it! On to the second array, now. As discussed earlier, we need to create an array of shape (_batch size_, 1152, 10, 8, 1), containing the output of the first layer capsules, repeated 10 times (once per digit, along the third dimension, which is axis=2). The `caps1_output` array has a shape of (_batch size_, 1152, 8), so we first need to expand it twice, to get an array of shape (_batch size_, 1152, 1, 8, 1), then we can repeat it 10 times along the third dimension:"
      ]
    },
    {
      "cell_type": "code",
      "execution_count": 25,
      "metadata": {
        "id": "y_-_DhN0nGLq"
      },
      "outputs": [],
      "source": [
        "caps1_output_expanded = tf.expand_dims(caps1_output, -1,\n",
        "                                       name=\"caps1_output_expanded\")\n",
        "caps1_output_tile = tf.expand_dims(caps1_output_expanded, 2,\n",
        "                                   name=\"caps1_output_tile\")\n",
        "caps1_output_tiled = tf.tile(caps1_output_tile, [1, 1, caps2_n_caps, 1, 1],\n",
        "                             name=\"caps1_output_tiled\")"
      ]
    },
    {
      "cell_type": "markdown",
      "metadata": {
        "id": "t8ijJEn4nGLq"
      },
      "source": [
        "Let's check the shape of the first array:"
      ]
    },
    {
      "cell_type": "code",
      "execution_count": 26,
      "metadata": {
        "id": "oHtdSlSSnGLq",
        "outputId": "206cd9d0-dc8a-4ba6-e64c-ef9e994521e1",
        "colab": {
          "base_uri": "https://localhost:8080/"
        }
      },
      "outputs": [
        {
          "output_type": "execute_result",
          "data": {
            "text/plain": [
              "<tf.Tensor 'W_tiled:0' shape=(?, 1152, 10, 16, 8) dtype=float32>"
            ]
          },
          "metadata": {},
          "execution_count": 26
        }
      ],
      "source": [
        "W_tiled"
      ]
    },
    {
      "cell_type": "markdown",
      "metadata": {
        "id": "dA_8bgdBnGLq"
      },
      "source": [
        "Good, and now the second:"
      ]
    },
    {
      "cell_type": "code",
      "execution_count": 27,
      "metadata": {
        "id": "6fDHaJ5tnGLq",
        "outputId": "29584e57-f074-40ca-a62e-98f14e39329d",
        "colab": {
          "base_uri": "https://localhost:8080/"
        }
      },
      "outputs": [
        {
          "output_type": "execute_result",
          "data": {
            "text/plain": [
              "<tf.Tensor 'caps1_output_tiled:0' shape=(?, 1152, 10, 8, 1) dtype=float32>"
            ]
          },
          "metadata": {},
          "execution_count": 27
        }
      ],
      "source": [
        "caps1_output_tiled"
      ]
    },
    {
      "cell_type": "markdown",
      "metadata": {
        "id": "J912mdk5nGLq"
      },
      "source": [
        "Yes! Now, to get all the predicted output vectors $\\hat{\\mathbf{u}}_{j|i}$, we just need to multiply these two arrays using `tf.matmul()`, as explained earlier:"
      ]
    },
    {
      "cell_type": "code",
      "execution_count": 28,
      "metadata": {
        "id": "66dBmLienGLq"
      },
      "outputs": [],
      "source": [
        "caps2_predicted = tf.matmul(W_tiled, caps1_output_tiled,\n",
        "                            name=\"caps2_predicted\")"
      ]
    },
    {
      "cell_type": "markdown",
      "metadata": {
        "id": "ld3FhX8YnGLq"
      },
      "source": [
        "Let's check the shape:"
      ]
    },
    {
      "cell_type": "code",
      "execution_count": 29,
      "metadata": {
        "id": "Ym3Lt8gSnGLq",
        "outputId": "806a0e95-099d-4591-c488-20436b109f51",
        "colab": {
          "base_uri": "https://localhost:8080/"
        }
      },
      "outputs": [
        {
          "output_type": "execute_result",
          "data": {
            "text/plain": [
              "<tf.Tensor 'caps2_predicted:0' shape=(?, 1152, 10, 16, 1) dtype=float32>"
            ]
          },
          "metadata": {},
          "execution_count": 29
        }
      ],
      "source": [
        "caps2_predicted"
      ]
    },
    {
      "cell_type": "markdown",
      "metadata": {
        "id": "x7GPLFRCnGLr"
      },
      "source": [
        "Perfect, for each instance in the batch (we don't know the batch size yet, hence the \"?\") and for each pair of first and second layer capsules (1152×10) we have a 16D predicted output column vector (16×1). We're ready to apply the routing by agreement algorithm!"
      ]
    },
    {
      "cell_type": "markdown",
      "metadata": {
        "id": "KAyF8oHvnGLr"
      },
      "source": [
        "## Routing by agreement"
      ]
    },
    {
      "cell_type": "markdown",
      "metadata": {
        "id": "ajcldwUmnGLr"
      },
      "source": [
        "First let's initialize the raw routing weights $b_{i,j}$ to zero:"
      ]
    },
    {
      "cell_type": "code",
      "execution_count": 30,
      "metadata": {
        "id": "SjQ7RCKcnGLr"
      },
      "outputs": [],
      "source": [
        "raw_weights = tf.zeros([batch_size, caps1_n_caps, caps2_n_caps, 1, 1],\n",
        "                       dtype=np.float32, name=\"raw_weights\")"
      ]
    },
    {
      "cell_type": "markdown",
      "metadata": {
        "id": "AOw3LeoVnGLr"
      },
      "source": [
        "We will see why we need the last two dimensions of size 1 in a minute."
      ]
    },
    {
      "cell_type": "markdown",
      "metadata": {
        "id": "YN5rasEInGLr"
      },
      "source": [
        "### Round 1"
      ]
    },
    {
      "cell_type": "markdown",
      "metadata": {
        "id": "Ud-XW5denGLr"
      },
      "source": [
        "First, let's apply the softmax function to compute the routing weights, $\\mathbf{c}_{i} = \\operatorname{softmax}(\\mathbf{b}_i)$ (equation (3) in the paper):"
      ]
    },
    {
      "cell_type": "code",
      "execution_count": 31,
      "metadata": {
        "id": "-Kc2MYHInGLr",
        "colab": {
          "base_uri": "https://localhost:8080/"
        },
        "outputId": "84fb8f27-2e78-44e1-f795-c54fd0d82b7f"
      },
      "outputs": [
        {
          "output_type": "stream",
          "name": "stderr",
          "text": [
            "WARNING:tensorflow:From /usr/local/lib/python3.10/dist-packages/tensorflow/python/util/dispatch.py:1260: calling softmax (from tensorflow.python.ops.nn_ops) with dim is deprecated and will be removed in a future version.\n",
            "Instructions for updating:\n",
            "dim is deprecated, use axis instead\n"
          ]
        }
      ],
      "source": [
        "routing_weights = tf.nn.softmax(raw_weights, dim=2, name=\"routing_weights\")"
      ]
    },
    {
      "cell_type": "markdown",
      "metadata": {
        "id": "kh64yZXVnGLr"
      },
      "source": [
        "Now let's compute the weighted sum of all the predicted output vectors for each second-layer capsule, $\\mathbf{s}_j = \\sum\\limits_{i}{c_{i,j}\\hat{\\mathbf{u}}_{j|i}}$ (equation (2)-left in the paper):"
      ]
    },
    {
      "cell_type": "code",
      "execution_count": 32,
      "metadata": {
        "id": "v2ZhxGlPnGLs"
      },
      "outputs": [],
      "source": [
        "weighted_predictions = tf.multiply(routing_weights, caps2_predicted,\n",
        "                                   name=\"weighted_predictions\")\n",
        "weighted_sum = tf.reduce_sum(weighted_predictions, axis=1, keep_dims=True,\n",
        "                             name=\"weighted_sum\")"
      ]
    },
    {
      "cell_type": "markdown",
      "metadata": {
        "id": "YnuR0HCInGLs"
      },
      "source": [
        "There are a couple important details to note here:\n",
        "* To perform elementwise matrix multiplication (also called the Hadamard product, noted $\\circ$), we use the `tf.multiply()` function. It requires `routing_weights` and `caps2_predicted` to have the same rank, which is why we added two extra dimensions of size 1 to `routing_weights`, earlier.\n",
        "* The shape of `routing_weights` is (_batch size_, 1152, 10, 1, 1) while the shape of `caps2_predicted` is (_batch size_, 1152, 10, 16, 1).  Since they don't match on the fourth dimension (1 _vs_ 16), `tf.multiply()` automatically _broadcasts_ the `routing_weights` 16 times along that dimension. If you are not familiar with broadcasting, a simple example might help:\n",
        "\n",
        "  $ \\pmatrix{1 & 2 & 3 \\\\ 4 & 5 & 6} \\circ \\pmatrix{10 & 100 & 1000} = \\pmatrix{1 & 2 & 3 \\\\ 4 & 5 & 6} \\circ \\pmatrix{10 & 100 & 1000 \\\\ 10 & 100 & 1000} = \\pmatrix{10 & 200 & 3000 \\\\ 40 & 500 & 6000} $"
      ]
    },
    {
      "cell_type": "markdown",
      "metadata": {
        "id": "XbkIRqf-nGLs"
      },
      "source": [
        "And finally, let's apply the squash function to get the outputs of the second layer capsules at the end of the first iteration of the routing by agreement algorithm, $\\mathbf{v}_j = \\operatorname{squash}(\\mathbf{s}_j)$ :"
      ]
    },
    {
      "cell_type": "code",
      "execution_count": 33,
      "metadata": {
        "id": "Z7l5w0lunGLs"
      },
      "outputs": [],
      "source": [
        "caps2_output_round_1 = squash(weighted_sum, axis=-2,\n",
        "                              name=\"caps2_output_round_1\")"
      ]
    },
    {
      "cell_type": "code",
      "execution_count": 34,
      "metadata": {
        "id": "in3ROupmnGLs",
        "outputId": "bab28836-dc08-4b75-aa44-5945c6f1bc7f",
        "colab": {
          "base_uri": "https://localhost:8080/"
        }
      },
      "outputs": [
        {
          "output_type": "execute_result",
          "data": {
            "text/plain": [
              "<tf.Tensor 'caps2_output_round_1/mul:0' shape=(?, 1, 10, 16, 1) dtype=float32>"
            ]
          },
          "metadata": {},
          "execution_count": 34
        }
      ],
      "source": [
        "caps2_output_round_1"
      ]
    },
    {
      "cell_type": "markdown",
      "metadata": {
        "id": "D7TVUgJ_nGLs"
      },
      "source": [
        "Good! We have ten 16D output vectors for each instance, as expected."
      ]
    },
    {
      "cell_type": "markdown",
      "metadata": {
        "id": "_bEyavL7nGLs"
      },
      "source": [
        "### Round 2"
      ]
    },
    {
      "cell_type": "markdown",
      "metadata": {
        "id": "1lmyvsZonGLs"
      },
      "source": [
        "First, let's measure how close each predicted vector $\\hat{\\mathbf{u}}_{j|i}$ is to the actual output vector $\\mathbf{v}_j$ by computing their scalar product $\\hat{\\mathbf{u}}_{j|i} \\cdot \\mathbf{v}_j$."
      ]
    },
    {
      "cell_type": "markdown",
      "metadata": {
        "id": "x8OkG1KYnGLt"
      },
      "source": [
        "* Quick math reminder: if $\\vec{a}$ and $\\vec{b}$ are two vectors of equal length, and $\\mathbf{a}$ and $\\mathbf{b}$ are their corresponding column vectors (i.e., matrices with a single column), then $\\mathbf{a}^T \\mathbf{b}$ (i.e., the matrix multiplication of the transpose of $\\mathbf{a}$, and $\\mathbf{b}$) is a 1×1 matrix containing the scalar product of the two vectors $\\vec{a}\\cdot\\vec{b}$. In Machine Learning, we generally represent vectors as column vectors, so when we talk about computing the scalar product $\\hat{\\mathbf{u}}_{j|i} \\cdot \\mathbf{v}_j$, this actually means computing ${\\hat{\\mathbf{u}}_{j|i}}^T \\mathbf{v}_j$."
      ]
    },
    {
      "cell_type": "markdown",
      "metadata": {
        "id": "i0eX4T4JnGLt"
      },
      "source": [
        "Since we need to compute the scalar product $\\hat{\\mathbf{u}}_{j|i} \\cdot \\mathbf{v}_j$ for each instance, and for each pair of first and second level capsules $(i, j)$, we will once again take advantage of the fact that `tf.matmul()` can multiply many matrices simultaneously. This will require playing around with `tf.tile()` to get all dimensions to match (except for the last 2), just like we did earlier. So let's look at the shape of `caps2_predicted`, which holds all the predicted output vectors $\\hat{\\mathbf{u}}_{j|i}$ for each instance and each pair of capsules:"
      ]
    },
    {
      "cell_type": "code",
      "execution_count": 35,
      "metadata": {
        "id": "DDZVzZ7_nGLt",
        "outputId": "51c6c619-79c7-488d-ea41-a27d8354286d",
        "colab": {
          "base_uri": "https://localhost:8080/"
        }
      },
      "outputs": [
        {
          "output_type": "execute_result",
          "data": {
            "text/plain": [
              "<tf.Tensor 'caps2_predicted:0' shape=(?, 1152, 10, 16, 1) dtype=float32>"
            ]
          },
          "metadata": {},
          "execution_count": 35
        }
      ],
      "source": [
        "caps2_predicted"
      ]
    },
    {
      "cell_type": "markdown",
      "metadata": {
        "id": "UI1XNMCrnGLt"
      },
      "source": [
        "And now let's look at the shape of `caps2_output_round_1`, which holds 10 outputs vectors of 16D each, for each instance:"
      ]
    },
    {
      "cell_type": "code",
      "execution_count": 36,
      "metadata": {
        "id": "oFNZGymbnGLt",
        "outputId": "36453179-85c3-4c75-80cd-4a7d12edc5a6",
        "colab": {
          "base_uri": "https://localhost:8080/"
        }
      },
      "outputs": [
        {
          "output_type": "execute_result",
          "data": {
            "text/plain": [
              "<tf.Tensor 'caps2_output_round_1/mul:0' shape=(?, 1, 10, 16, 1) dtype=float32>"
            ]
          },
          "metadata": {},
          "execution_count": 36
        }
      ],
      "source": [
        "caps2_output_round_1"
      ]
    },
    {
      "cell_type": "markdown",
      "metadata": {
        "id": "cRA23bAhnGLt"
      },
      "source": [
        "To get these shapes to match, we just need to tile the `caps2_output_round_1` array 1152 times (once per primary capsule) along the second dimension:"
      ]
    },
    {
      "cell_type": "code",
      "execution_count": 37,
      "metadata": {
        "id": "JMbXr8J0nGLt"
      },
      "outputs": [],
      "source": [
        "caps2_output_round_1_tiled = tf.tile(\n",
        "    caps2_output_round_1, [1, caps1_n_caps, 1, 1, 1],\n",
        "    name=\"caps2_output_round_1_tiled\")"
      ]
    },
    {
      "cell_type": "markdown",
      "metadata": {
        "id": "wZci_bLknGLt"
      },
      "source": [
        "And now we are ready to call `tf.matmul()` (note that we must tell it to transpose the matrices in the first array, to get ${\\hat{\\mathbf{u}}_{j|i}}^T$ instead of $\\hat{\\mathbf{u}}_{j|i}$):"
      ]
    },
    {
      "cell_type": "code",
      "execution_count": 38,
      "metadata": {
        "id": "djkKiWxmnGLt"
      },
      "outputs": [],
      "source": [
        "agreement = tf.matmul(caps2_predicted, caps2_output_round_1_tiled,\n",
        "                      transpose_a=True, name=\"agreement\")"
      ]
    },
    {
      "cell_type": "markdown",
      "metadata": {
        "id": "bLFhYYkqnGLu"
      },
      "source": [
        "We can now update the raw routing weights $b_{i,j}$ by simply adding the scalar product $\\hat{\\mathbf{u}}_{j|i} \\cdot \\mathbf{v}_j$ we just computed: $b_{i,j} \\gets b_{i,j} + \\hat{\\mathbf{u}}_{j|i} \\cdot \\mathbf{v}_j$ (see Procedure 1, step 7, in the paper)."
      ]
    },
    {
      "cell_type": "code",
      "execution_count": 39,
      "metadata": {
        "id": "4JqH-B-5nGLu"
      },
      "outputs": [],
      "source": [
        "raw_weights_round_2 = tf.add(raw_weights, agreement,\n",
        "                             name=\"raw_weights_round_2\")"
      ]
    },
    {
      "cell_type": "markdown",
      "metadata": {
        "id": "RG41qWGcnGLu"
      },
      "source": [
        "The rest of round 2 is the same as in round 1:"
      ]
    },
    {
      "cell_type": "code",
      "execution_count": 40,
      "metadata": {
        "id": "xCm2B91gnGLu"
      },
      "outputs": [],
      "source": [
        "routing_weights_round_2 = tf.nn.softmax(raw_weights_round_2,\n",
        "                                        dim=2,\n",
        "                                        name=\"routing_weights_round_2\")\n",
        "weighted_predictions_round_2 = tf.multiply(routing_weights_round_2,\n",
        "                                           caps2_predicted,\n",
        "                                           name=\"weighted_predictions_round_2\")\n",
        "weighted_sum_round_2 = tf.reduce_sum(weighted_predictions_round_2,\n",
        "                                     axis=1, keep_dims=True,\n",
        "                                     name=\"weighted_sum_round_2\")\n",
        "caps2_output_round_2 = squash(weighted_sum_round_2,\n",
        "                              axis=-2,\n",
        "                              name=\"caps2_output_round_2\")"
      ]
    },
    {
      "cell_type": "markdown",
      "metadata": {
        "id": "bz506PG8nGLu"
      },
      "source": [
        "We could go on for a few more rounds, by repeating exactly the same steps as in round 2, but to keep things short, we will stop here:"
      ]
    },
    {
      "cell_type": "code",
      "execution_count": 41,
      "metadata": {
        "id": "TbX9ZkrqnGLu"
      },
      "outputs": [],
      "source": [
        "caps2_output = caps2_output_round_2"
      ]
    },
    {
      "cell_type": "markdown",
      "metadata": {
        "id": "mk8w6kP3nGLv"
      },
      "source": [
        "# Estimated Class Probabilities (Length)"
      ]
    },
    {
      "cell_type": "markdown",
      "metadata": {
        "id": "W2gw-_chnGLv"
      },
      "source": [
        "The lengths of the output vectors represent the class probabilities, so we could just use `tf.norm()` to compute them, but as we saw when discussing the squash function, it would be risky, so instead let's create our own `safe_norm()` function:"
      ]
    },
    {
      "cell_type": "code",
      "execution_count": 42,
      "metadata": {
        "id": "vVjuqs3_nGLv"
      },
      "outputs": [],
      "source": [
        "def safe_norm(s, axis=-1, epsilon=1e-7, keep_dims=False, name=None):\n",
        "    with tf.name_scope(name, default_name=\"safe_norm\"):\n",
        "        squared_norm = tf.reduce_sum(tf.square(s), axis=axis,\n",
        "                                     keep_dims=keep_dims)\n",
        "        return tf.sqrt(squared_norm + epsilon)"
      ]
    },
    {
      "cell_type": "code",
      "execution_count": 43,
      "metadata": {
        "id": "PkI1366vnGLv"
      },
      "outputs": [],
      "source": [
        "y_proba = safe_norm(caps2_output, axis=-2, name=\"y_proba\")"
      ]
    },
    {
      "cell_type": "markdown",
      "metadata": {
        "id": "I1BvNqFMnGLv"
      },
      "source": [
        "To predict the class of each instance, we can just select the one with the highest estimated probability. To do this, let's start by finding its index using `tf.argmax()`:"
      ]
    },
    {
      "cell_type": "code",
      "execution_count": 44,
      "metadata": {
        "id": "svQJ16UWnGLv"
      },
      "outputs": [],
      "source": [
        "y_proba_argmax = tf.argmax(y_proba, axis=2, name=\"y_proba\")"
      ]
    },
    {
      "cell_type": "markdown",
      "metadata": {
        "id": "ISeYOwk0nGLw"
      },
      "source": [
        "Let's look at the shape of `y_proba_argmax`:"
      ]
    },
    {
      "cell_type": "code",
      "execution_count": 45,
      "metadata": {
        "id": "x7En_xrhnGLw",
        "outputId": "c7d6753a-e897-4be4-dd4a-d038b20f6187",
        "colab": {
          "base_uri": "https://localhost:8080/"
        }
      },
      "outputs": [
        {
          "output_type": "execute_result",
          "data": {
            "text/plain": [
              "<tf.Tensor 'y_proba_1:0' shape=(?, 1, 1) dtype=int64>"
            ]
          },
          "metadata": {},
          "execution_count": 45
        }
      ],
      "source": [
        "y_proba_argmax"
      ]
    },
    {
      "cell_type": "markdown",
      "metadata": {
        "id": "ex3b2TTOnGLw"
      },
      "source": [
        "That's what we wanted: for each instance, we now have the index of the longest output vector. Let's get rid of the last two dimensions by using `tf.squeeze()` which removes dimensions of size 1. This gives us the capsule network's predicted class for each instance:"
      ]
    },
    {
      "cell_type": "code",
      "execution_count": 46,
      "metadata": {
        "id": "ehUb8zoenGLw"
      },
      "outputs": [],
      "source": [
        "y_pred = tf.squeeze(y_proba_argmax, axis=[1,2], name=\"y_pred\")"
      ]
    },
    {
      "cell_type": "code",
      "execution_count": 47,
      "metadata": {
        "id": "_YcC1pvfnGLw",
        "outputId": "701759ae-e88e-46d3-e465-9b596bfb5532",
        "colab": {
          "base_uri": "https://localhost:8080/"
        }
      },
      "outputs": [
        {
          "output_type": "execute_result",
          "data": {
            "text/plain": [
              "<tf.Tensor 'y_pred:0' shape=(?,) dtype=int64>"
            ]
          },
          "metadata": {},
          "execution_count": 47
        }
      ],
      "source": [
        "y_pred"
      ]
    },
    {
      "cell_type": "markdown",
      "metadata": {
        "id": "9RXU1IvYnGLw"
      },
      "source": [
        "Okay, we are now ready to define the training operations, starting with the losses."
      ]
    },
    {
      "cell_type": "markdown",
      "metadata": {
        "id": "euEBUSTinGLw"
      },
      "source": [
        "# Labels"
      ]
    },
    {
      "cell_type": "markdown",
      "metadata": {
        "id": "HO0G__PYnGLw"
      },
      "source": [
        "First, we will need a placeholder for the labels:"
      ]
    },
    {
      "cell_type": "code",
      "execution_count": 48,
      "metadata": {
        "id": "viK5z4eBnGLw"
      },
      "outputs": [],
      "source": [
        "y = tf.placeholder(shape=[None], dtype=tf.int64, name=\"y\")"
      ]
    },
    {
      "cell_type": "markdown",
      "metadata": {
        "id": "EKaFhoOXnGLx"
      },
      "source": [
        "# Margin loss"
      ]
    },
    {
      "cell_type": "markdown",
      "metadata": {
        "id": "0SQwnCQBnGLx"
      },
      "source": [
        "The paper uses a special margin loss to make it possible to detect two or more different digits in each image:\n",
        "\n",
        "$ L_k = T_k \\max(0, m^{+} - \\|\\mathbf{v}_k\\|)^2 + \\lambda (1 - T_k) \\max(0, \\|\\mathbf{v}_k\\| - m^{-})^2$\n",
        "\n",
        "* $T_k$ is equal to 1 if the digit of class $k$ is present, or 0 otherwise.\n",
        "* In the paper, $m^{+} = 0.9$, $m^{-} = 0.1$ and $\\lambda = 0.5$.\n",
        "* Note that there was an error in the video (at 15:47): the max operations are squared, not the norms. Sorry about that."
      ]
    },
    {
      "cell_type": "code",
      "execution_count": 49,
      "metadata": {
        "id": "TrbOeTQSnGLx"
      },
      "outputs": [],
      "source": [
        "m_plus = 0.9\n",
        "m_minus = 0.1\n",
        "lambda_ = 0.5"
      ]
    },
    {
      "cell_type": "markdown",
      "metadata": {
        "id": "5sG0cYYMnGLx"
      },
      "source": [
        "Since `y` will contain the digit classes, from 0 to 9, to get $T_k$ for every instance and every class, we can just use the `tf.one_hot()` function:"
      ]
    },
    {
      "cell_type": "code",
      "execution_count": 50,
      "metadata": {
        "id": "i3Zgz6TcnGLx"
      },
      "outputs": [],
      "source": [
        "T = tf.one_hot(y, depth=caps2_n_caps, name=\"T\")"
      ]
    },
    {
      "cell_type": "markdown",
      "metadata": {
        "id": "ou-GGXbFnGLx"
      },
      "source": [
        "A small example should make it clear what this does:"
      ]
    },
    {
      "cell_type": "code",
      "execution_count": 51,
      "metadata": {
        "id": "2flV9iunnGLx",
        "outputId": "58116d65-222d-4b24-ff83-5da787a7f17f",
        "colab": {
          "base_uri": "https://localhost:8080/"
        }
      },
      "outputs": [
        {
          "output_type": "stream",
          "name": "stdout",
          "text": [
            "[[1. 0. 0. 0. 0. 0. 0. 0. 0. 0.]\n",
            " [0. 1. 0. 0. 0. 0. 0. 0. 0. 0.]\n",
            " [0. 0. 1. 0. 0. 0. 0. 0. 0. 0.]\n",
            " [0. 0. 0. 1. 0. 0. 0. 0. 0. 0.]\n",
            " [0. 0. 0. 0. 0. 0. 0. 0. 0. 1.]]\n"
          ]
        }
      ],
      "source": [
        "with tf.Session():\n",
        "    print(T.eval(feed_dict={y: np.array([0, 1, 2, 3, 9])}))"
      ]
    },
    {
      "cell_type": "markdown",
      "metadata": {
        "id": "j1SBwG6snGLx"
      },
      "source": [
        "Now let's compute the norm of the output vector for each output capsule and each instance. First, let's verify the shape of `caps2_output`:"
      ]
    },
    {
      "cell_type": "code",
      "execution_count": 52,
      "metadata": {
        "id": "9bSdlBXJnGLx",
        "outputId": "87d5ef9b-c214-4236-d331-0f74c8c12de1",
        "colab": {
          "base_uri": "https://localhost:8080/"
        }
      },
      "outputs": [
        {
          "output_type": "execute_result",
          "data": {
            "text/plain": [
              "<tf.Tensor 'caps2_output_round_2/mul:0' shape=(?, 1, 10, 16, 1) dtype=float32>"
            ]
          },
          "metadata": {},
          "execution_count": 52
        }
      ],
      "source": [
        "caps2_output"
      ]
    },
    {
      "cell_type": "markdown",
      "metadata": {
        "id": "pRSvJsHWnGLy"
      },
      "source": [
        "The 16D output vectors are in the second to last dimension, so let's use the `safe_norm()` function with `axis=-2`:"
      ]
    },
    {
      "cell_type": "code",
      "execution_count": 53,
      "metadata": {
        "id": "EcAwoGoonGLy"
      },
      "outputs": [],
      "source": [
        "caps2_output_norm = safe_norm(caps2_output, axis=-2, keep_dims=True,\n",
        "                              name=\"caps2_output_norm\")"
      ]
    },
    {
      "cell_type": "markdown",
      "metadata": {
        "id": "3-QHUPEZnGLy"
      },
      "source": [
        "Now let's compute $\\max(0, m^{+} - \\|\\mathbf{v}_k\\|)^2$, and reshape the result to get a simple matrix of shape (_batch size_, 10):"
      ]
    },
    {
      "cell_type": "code",
      "execution_count": 54,
      "metadata": {
        "id": "_O_yfuKtnGLy"
      },
      "outputs": [],
      "source": [
        "present_error_raw = tf.square(tf.maximum(0., m_plus - caps2_output_norm),\n",
        "                              name=\"present_error_raw\")\n",
        "present_error = tf.reshape(present_error_raw, shape=(-1, 10),\n",
        "                           name=\"present_error\")"
      ]
    },
    {
      "cell_type": "markdown",
      "metadata": {
        "id": "cuOTr1nEnGLy"
      },
      "source": [
        "Next let's compute $\\max(0, \\|\\mathbf{v}_k\\| - m^{-})^2$ and reshape it:"
      ]
    },
    {
      "cell_type": "code",
      "execution_count": 55,
      "metadata": {
        "id": "ya7Ki9b-nGLy"
      },
      "outputs": [],
      "source": [
        "absent_error_raw = tf.square(tf.maximum(0., caps2_output_norm - m_minus),\n",
        "                             name=\"absent_error_raw\")\n",
        "absent_error = tf.reshape(absent_error_raw, shape=(-1, 10),\n",
        "                          name=\"absent_error\")"
      ]
    },
    {
      "cell_type": "markdown",
      "metadata": {
        "id": "8cu3QCLfnGLy"
      },
      "source": [
        "We are ready to compute the loss for each instance and each digit:"
      ]
    },
    {
      "cell_type": "code",
      "execution_count": 56,
      "metadata": {
        "id": "NCDBjq-inGLy"
      },
      "outputs": [],
      "source": [
        "L = tf.add(T * present_error, lambda_ * (1.0 - T) * absent_error,\n",
        "           name=\"L\")"
      ]
    },
    {
      "cell_type": "markdown",
      "metadata": {
        "id": "3uaJlABXnGLy"
      },
      "source": [
        "Now we can sum the digit losses for each instance ($L_0 + L_1 + \\cdots + L_9$), and compute the mean over all instances. This gives us the final margin loss:"
      ]
    },
    {
      "cell_type": "code",
      "execution_count": 57,
      "metadata": {
        "id": "G2V8L-R6nGLz"
      },
      "outputs": [],
      "source": [
        "margin_loss = tf.reduce_mean(tf.reduce_sum(L, axis=1), name=\"margin_loss\")"
      ]
    },
    {
      "cell_type": "markdown",
      "metadata": {
        "id": "X4jfUBMInGLz"
      },
      "source": [
        "# Reconstruction"
      ]
    },
    {
      "cell_type": "markdown",
      "metadata": {
        "id": "vBNdNCB9nGLz"
      },
      "source": [
        "Now let's add a decoder network on top of the capsule network. It is a regular 3-layer fully connected neural network which will learn to reconstruct the input images based on the output of the capsule network. This will force the capsule network to preserve all the information required to reconstruct the digits, across the whole network. This constraint regularizes the model: it reduces the risk of overfitting the training set, and it helps generalize to new digits."
      ]
    },
    {
      "cell_type": "markdown",
      "metadata": {
        "id": "yrnRlVD7nGLz"
      },
      "source": [
        "## Mask"
      ]
    },
    {
      "cell_type": "markdown",
      "metadata": {
        "id": "8FS5UT47nGLz"
      },
      "source": [
        "The paper mentions that during training, instead of sending all the outputs of the capsule network to the decoder network, we must send only the output vector of the capsule that corresponds to the target digit. All the other output vectors must be masked out. At inference time, we must mask all output vectors except for the longest one, i.e., the one that corresponds to the predicted digit. You can see this in the paper's figure 2 (at 18:15 in the video): all output vectors are masked out, except for the reconstruction target's output vector."
      ]
    },
    {
      "cell_type": "markdown",
      "metadata": {
        "id": "f41_LCw6nGLz"
      },
      "source": [
        "We need a placeholder to tell TensorFlow whether we want to mask the output vectors based on the labels (`True`) or on the predictions (`False`, the default):"
      ]
    },
    {
      "cell_type": "code",
      "execution_count": 58,
      "metadata": {
        "id": "BaIS960DnGLz"
      },
      "outputs": [],
      "source": [
        "mask_with_labels = tf.placeholder_with_default(False, shape=(),\n",
        "                                               name=\"mask_with_labels\")"
      ]
    },
    {
      "cell_type": "markdown",
      "metadata": {
        "id": "NZ2RRatRnGLz"
      },
      "source": [
        "Now let's use `tf.cond()` to define the reconstruction targets as the labels `y` if `mask_with_labels` is `True`, or `y_pred` otherwise."
      ]
    },
    {
      "cell_type": "code",
      "execution_count": 59,
      "metadata": {
        "id": "7dMRccsQnGLz"
      },
      "outputs": [],
      "source": [
        "reconstruction_targets = tf.cond(mask_with_labels, # condition\n",
        "                                 lambda: y,        # if True\n",
        "                                 lambda: y_pred,   # if False\n",
        "                                 name=\"reconstruction_targets\")"
      ]
    },
    {
      "cell_type": "markdown",
      "metadata": {
        "id": "VQiVw1cHnGLz"
      },
      "source": [
        "Note that the `tf.cond()` function expects the if-True and if-False tensors to be passed _via_ functions: these functions will be called just once during the graph construction phase (not during the execution phase), similar to `tf.while_loop()`. This allows TensorFlow to add the necessary operations to handle the conditional evaluation of the if-True or if-False tensors. However, in our case, the tensors `y` and `y_pred` are already created by the time we call `tf.cond()`, so unfortunately TensorFlow will consider both `y` and `y_pred` to be dependencies of the `reconstruction_targets` tensor. The `reconstruction_targets` tensor will end up with the correct value, but:\n",
        "1. whenever we evaluate a tensor that depends on `reconstruction_targets`, the `y_pred` tensor will be evaluated (even if `mask_with_layers` is `True`). This is not a big deal because computing `y_pred` adds no computing overhead during training, since we need it anyway to compute the margin loss. And during testing, if we are doing classification, we won't need reconstructions, so `reconstruction_targets` won't be evaluated at all.\n",
        "2. we will always need to feed a value for the `y` placeholder (even if `mask_with_layers` is `False`). This is a bit annoying, but we can pass an empty array, because TensorFlow won't use it anyway (it just does not know it yet when it checks for dependencies)."
      ]
    },
    {
      "cell_type": "markdown",
      "metadata": {
        "id": "pJ3L4i4jnGL0"
      },
      "source": [
        "Now that we have the reconstruction targets, let's create the reconstruction mask. It should be equal to 1.0 for the target class, and 0.0 for the other classes, for each instance. For this we can just use the `tf.one_hot()` function:"
      ]
    },
    {
      "cell_type": "code",
      "execution_count": 60,
      "metadata": {
        "id": "_BzPfJt-nGL0"
      },
      "outputs": [],
      "source": [
        "reconstruction_mask = tf.one_hot(reconstruction_targets,\n",
        "                                 depth=caps2_n_caps,\n",
        "                                 name=\"reconstruction_mask\")"
      ]
    },
    {
      "cell_type": "markdown",
      "metadata": {
        "id": "ReCMU24_nGL0"
      },
      "source": [
        "Let's check the shape of `reconstruction_mask`:"
      ]
    },
    {
      "cell_type": "code",
      "execution_count": 61,
      "metadata": {
        "id": "8O7yHHSLnGL0",
        "outputId": "9a3f9e9f-cb73-489a-8ae5-5eeb8c6ecdd8",
        "colab": {
          "base_uri": "https://localhost:8080/"
        }
      },
      "outputs": [
        {
          "output_type": "execute_result",
          "data": {
            "text/plain": [
              "<tf.Tensor 'reconstruction_mask:0' shape=(?, 10) dtype=float32>"
            ]
          },
          "metadata": {},
          "execution_count": 61
        }
      ],
      "source": [
        "reconstruction_mask"
      ]
    },
    {
      "cell_type": "markdown",
      "metadata": {
        "id": "VYb4yL4jnGL0"
      },
      "source": [
        "Let's compare this to the shape of `caps2_output`:"
      ]
    },
    {
      "cell_type": "code",
      "execution_count": 62,
      "metadata": {
        "id": "1Mo6g4pHnGL0",
        "outputId": "6dd698d1-e875-4bb8-c648-97f9444e0dbc",
        "colab": {
          "base_uri": "https://localhost:8080/"
        }
      },
      "outputs": [
        {
          "output_type": "execute_result",
          "data": {
            "text/plain": [
              "<tf.Tensor 'caps2_output_round_2/mul:0' shape=(?, 1, 10, 16, 1) dtype=float32>"
            ]
          },
          "metadata": {},
          "execution_count": 62
        }
      ],
      "source": [
        "caps2_output"
      ]
    },
    {
      "cell_type": "markdown",
      "metadata": {
        "id": "mODFwK5HnGL0"
      },
      "source": [
        "Mmh, its shape is (_batch size_, 1, 10, 16, 1). We want to multiply it by the `reconstruction_mask`, but the shape of the `reconstruction_mask` is (_batch size_, 10). We must reshape it to (_batch size_, 1, 10, 1, 1) to make multiplication possible:"
      ]
    },
    {
      "cell_type": "code",
      "execution_count": 63,
      "metadata": {
        "id": "d8ltVlrbnGL0"
      },
      "outputs": [],
      "source": [
        "reconstruction_mask_reshaped = tf.reshape(\n",
        "    reconstruction_mask, [-1, 1, caps2_n_caps, 1, 1],\n",
        "    name=\"reconstruction_mask_reshaped\")"
      ]
    },
    {
      "cell_type": "markdown",
      "metadata": {
        "id": "PdOs-Bl6nGL0"
      },
      "source": [
        "At last! We can apply the mask:"
      ]
    },
    {
      "cell_type": "code",
      "execution_count": 64,
      "metadata": {
        "id": "bMpOSJxmnGL1"
      },
      "outputs": [],
      "source": [
        "caps2_output_masked = tf.multiply(\n",
        "    caps2_output, reconstruction_mask_reshaped,\n",
        "    name=\"caps2_output_masked\")"
      ]
    },
    {
      "cell_type": "code",
      "execution_count": 65,
      "metadata": {
        "id": "hi3yH13UnGL1",
        "outputId": "6b0882d4-248d-4be9-e036-304b746e6fc5",
        "colab": {
          "base_uri": "https://localhost:8080/"
        }
      },
      "outputs": [
        {
          "output_type": "execute_result",
          "data": {
            "text/plain": [
              "<tf.Tensor 'caps2_output_masked:0' shape=(?, 1, 10, 16, 1) dtype=float32>"
            ]
          },
          "metadata": {},
          "execution_count": 65
        }
      ],
      "source": [
        "caps2_output_masked"
      ]
    },
    {
      "cell_type": "markdown",
      "metadata": {
        "id": "igZy0nfBnGL1"
      },
      "source": [
        "One last reshape operation to flatten the decoder's inputs:"
      ]
    },
    {
      "cell_type": "code",
      "execution_count": 66,
      "metadata": {
        "id": "MRnENA12nGL1"
      },
      "outputs": [],
      "source": [
        "decoder_input = tf.reshape(caps2_output_masked,\n",
        "                           [-1, caps2_n_caps * caps2_n_dims],\n",
        "                           name=\"decoder_input\")"
      ]
    },
    {
      "cell_type": "markdown",
      "metadata": {
        "id": "rWy3wNqVnGL1"
      },
      "source": [
        "This gives us an array of shape (_batch size_, 160):"
      ]
    },
    {
      "cell_type": "code",
      "execution_count": 67,
      "metadata": {
        "id": "BuTQzFDNnGL1",
        "outputId": "1ab15042-6894-4181-edfd-dcda9c468cb5",
        "colab": {
          "base_uri": "https://localhost:8080/"
        }
      },
      "outputs": [
        {
          "output_type": "execute_result",
          "data": {
            "text/plain": [
              "<tf.Tensor 'decoder_input:0' shape=(?, 160) dtype=float32>"
            ]
          },
          "metadata": {},
          "execution_count": 67
        }
      ],
      "source": [
        "decoder_input"
      ]
    },
    {
      "cell_type": "markdown",
      "metadata": {
        "id": "yaKswpp6nGL2"
      },
      "source": [
        "## Decoder"
      ]
    },
    {
      "cell_type": "markdown",
      "metadata": {
        "id": "86SPP-RPnGL2"
      },
      "source": [
        "Now let's build the decoder. It's quite simple: two dense (fully connected) ReLU layers followed by a dense output sigmoid layer:"
      ]
    },
    {
      "cell_type": "code",
      "execution_count": 68,
      "metadata": {
        "id": "2GDiGnjRnGL2"
      },
      "outputs": [],
      "source": [
        "n_hidden1 = 512\n",
        "n_hidden2 = 1024\n",
        "n_output = 28 * 28"
      ]
    },
    {
      "cell_type": "code",
      "execution_count": 69,
      "metadata": {
        "id": "Kw20a7iknGL2",
        "outputId": "958f7582-7c47-444b-ee9b-5057cf0d8612",
        "colab": {
          "base_uri": "https://localhost:8080/"
        }
      },
      "outputs": [
        {
          "output_type": "stream",
          "name": "stderr",
          "text": [
            "<ipython-input-69-ca7ebd35d3b1>:2: UserWarning: `tf.layers.dense` is deprecated and will be removed in a future version. Please use `tf.keras.layers.Dense` instead.\n",
            "  hidden1 = tf.layers.dense(decoder_input, n_hidden1,\n",
            "<ipython-input-69-ca7ebd35d3b1>:5: UserWarning: `tf.layers.dense` is deprecated and will be removed in a future version. Please use `tf.keras.layers.Dense` instead.\n",
            "  hidden2 = tf.layers.dense(hidden1, n_hidden2,\n",
            "<ipython-input-69-ca7ebd35d3b1>:8: UserWarning: `tf.layers.dense` is deprecated and will be removed in a future version. Please use `tf.keras.layers.Dense` instead.\n",
            "  decoder_output = tf.layers.dense(hidden2, n_output,\n"
          ]
        }
      ],
      "source": [
        "with tf.name_scope(\"decoder\"):\n",
        "    hidden1 = tf.layers.dense(decoder_input, n_hidden1,\n",
        "                              activation=tf.nn.relu,\n",
        "                              name=\"hidden1\")\n",
        "    hidden2 = tf.layers.dense(hidden1, n_hidden2,\n",
        "                              activation=tf.nn.relu,\n",
        "                              name=\"hidden2\")\n",
        "    decoder_output = tf.layers.dense(hidden2, n_output,\n",
        "                                     activation=tf.nn.sigmoid,\n",
        "                                     name=\"decoder_output\")"
      ]
    },
    {
      "cell_type": "markdown",
      "metadata": {
        "id": "jVy27iE7nGL2"
      },
      "source": [
        "## Reconstruction Loss"
      ]
    },
    {
      "cell_type": "markdown",
      "metadata": {
        "id": "tbjKZgMBnGL2"
      },
      "source": [
        "Now let's compute the reconstruction loss. It is just the squared difference between the input image and the reconstructed image:"
      ]
    },
    {
      "cell_type": "code",
      "execution_count": 70,
      "metadata": {
        "id": "VRMaft10nGL3"
      },
      "outputs": [],
      "source": [
        "X_flat = tf.reshape(X, [-1, n_output], name=\"X_flat\")\n",
        "squared_difference = tf.square(X_flat - decoder_output,\n",
        "                               name=\"squared_difference\")\n",
        "reconstruction_loss = tf.reduce_mean(squared_difference,\n",
        "                                    name=\"reconstruction_loss\")"
      ]
    },
    {
      "cell_type": "markdown",
      "metadata": {
        "id": "5O_ugnRBnGL3"
      },
      "source": [
        "## Final Loss"
      ]
    },
    {
      "cell_type": "markdown",
      "metadata": {
        "id": "WTbtOoiDnGL3"
      },
      "source": [
        "The final loss is the sum of the margin loss and the reconstruction loss (scaled down by a factor of 0.0005 to ensure the margin loss dominates training):"
      ]
    },
    {
      "cell_type": "code",
      "execution_count": 71,
      "metadata": {
        "id": "1lcGeR_cnGL3"
      },
      "outputs": [],
      "source": [
        "alpha = 0.0005\n",
        "\n",
        "loss = tf.add(margin_loss, alpha * reconstruction_loss, name=\"loss\")"
      ]
    },
    {
      "cell_type": "markdown",
      "metadata": {
        "id": "pMpRk1NEnGL3"
      },
      "source": [
        "# Final Touches"
      ]
    },
    {
      "cell_type": "markdown",
      "metadata": {
        "id": "Mm4Yr1MmnGL3"
      },
      "source": [
        "## Accuracy"
      ]
    },
    {
      "cell_type": "markdown",
      "metadata": {
        "id": "3uVmJNJgnGL3"
      },
      "source": [
        "To measure our model's accuracy, we need to count the number of instances that are properly classified. For this, we can simply compare `y` and `y_pred`, convert the boolean value to a float32 (0.0 for False, 1.0 for True), and compute the mean over all the instances:"
      ]
    },
    {
      "cell_type": "code",
      "execution_count": 72,
      "metadata": {
        "id": "7MpHR4awnGL3"
      },
      "outputs": [],
      "source": [
        "correct = tf.equal(y, y_pred, name=\"correct\")\n",
        "accuracy = tf.reduce_mean(tf.cast(correct, tf.float32), name=\"accuracy\")"
      ]
    },
    {
      "cell_type": "markdown",
      "metadata": {
        "id": "YXU4b2FAnGL3"
      },
      "source": [
        "## Training Operations"
      ]
    },
    {
      "cell_type": "markdown",
      "metadata": {
        "id": "MNZSRFDInGL3"
      },
      "source": [
        "The paper mentions that the authors used the Adam optimizer with TensorFlow's default parameters:"
      ]
    },
    {
      "cell_type": "code",
      "execution_count": 73,
      "metadata": {
        "id": "O7d0r7-wnGL4"
      },
      "outputs": [],
      "source": [
        "optimizer = tf.train.AdamOptimizer()\n",
        "training_op = optimizer.minimize(loss, name=\"training_op\")"
      ]
    },
    {
      "cell_type": "markdown",
      "metadata": {
        "id": "eRmteD-AnGL4"
      },
      "source": [
        "## Init and Saver"
      ]
    },
    {
      "cell_type": "markdown",
      "metadata": {
        "id": "jbMLpD9vnGL4"
      },
      "source": [
        "And let's add the usual variable initializer, as well as a `Saver`:"
      ]
    },
    {
      "cell_type": "code",
      "execution_count": 74,
      "metadata": {
        "id": "i8ejVJi8nGL4"
      },
      "outputs": [],
      "source": [
        "init = tf.global_variables_initializer()\n",
        "saver = tf.train.Saver()"
      ]
    },
    {
      "cell_type": "markdown",
      "metadata": {
        "id": "aBoxfzwinGL4"
      },
      "source": [
        "And... we're done with the construction phase! Please take a moment to celebrate. :)"
      ]
    },
    {
      "cell_type": "markdown",
      "metadata": {
        "id": "5oZNzGJMnGL4"
      },
      "source": [
        "# Training"
      ]
    },
    {
      "cell_type": "markdown",
      "metadata": {
        "id": "A8xFaxQfnGL4"
      },
      "source": [
        "Training our capsule network is pretty standard. For simplicity, we won't do any fancy hyperparameter tuning, dropout or anything, we will just run the training operation over and over again, displaying the loss, and at the end of each epoch, measure the accuracy on the validation set, display it, and save the model if the validation loss is the lowest seen found so far (this is a basic way to implement early stopping, without actually stopping). Hopefully the code should be self-explanatory, but here are a few details to note:\n",
        "* if a checkpoint file exists, it will be restored (this makes it possible to interrupt training, then restart it later from the last checkpoint),\n",
        "* we must not forget to feed `mask_with_labels=True` during training,\n",
        "* during testing, we let `mask_with_labels` default to `False` (but we still feed the labels since they are required to compute the accuracy),\n",
        "* the images loaded _via_ `mnist.train.next_batch()` are represented as `float32` arrays of shape \\[784\\], but the input placeholder `X` expects a `float32` array of shape \\[28, 28, 1\\], so we must reshape the images before we feed them to our model,\n",
        "* we evaluate the model's loss and accuracy on the full validation set (5,000 instances). To view progress and support systems that don't have a lot of RAM, the code evaluates the loss and accuracy on one batch at a time, and computes the mean loss and mean accuracy at the end.\n",
        "\n",
        "*Warning*: if you don't have a GPU, training will take a very long time (at least a few hours). With a GPU, it should take just a few minutes per epoch (e.g., 6 minutes on an NVidia GeForce GTX 1080Ti)."
      ]
    },
    {
      "cell_type": "code",
      "execution_count": 85,
      "metadata": {
        "id": "vU8vQe6tnGL4",
        "outputId": "004d1f7c-b4a5-4a4e-ff39-b43d397a7744",
        "colab": {
          "base_uri": "https://localhost:8080/"
        }
      },
      "outputs": [
        {
          "output_type": "stream",
          "name": "stdout",
          "text": [
            "Epoch: 1  Val accuracy: 99.2000%  Loss: 0.008223 (improved)\n",
            "Epoch: 2  Val accuracy: 99.1600%  Loss: 0.008061 (improved)\n",
            "Epoch: 3  Val accuracy: 99.1600%  Loss: 0.008199\n",
            "Epoch: 4  Val accuracy: 99.2800%  Loss: 0.008243\n",
            "Epoch: 5  Val accuracy: 99.2600%  Loss: 0.008471\n",
            "Epoch: 6  Val accuracy: 99.1200%  Loss: 0.009253\n",
            "Epoch: 7  Val accuracy: 99.1200%  Loss: 0.009542\n",
            "Epoch: 8  Val accuracy: 99.3200%  Loss: 0.007879 (improved)\n",
            "Epoch: 9  Val accuracy: 99.1800%  Loss: 0.008524\n",
            "Epoch: 10  Val accuracy: 99.2800%  Loss: 0.007456 (improved)\n"
          ]
        }
      ],
      "source": [
        "n_epochs = 10\n",
        "batch_size = 50\n",
        "restore_checkpoint = True\n",
        "\n",
        "n_iterations_per_epoch = mnist.train.num_examples // batch_size\n",
        "n_iterations_validation = mnist.validation.num_examples // batch_size\n",
        "best_loss_val = np.infty\n",
        "checkpoint_path = \"./my_capsule_network\"\n",
        "\n",
        "with tf.Session() as sess:\n",
        "    if restore_checkpoint and tf.train.checkpoint_exists(checkpoint_path):\n",
        "        saver.restore(sess, checkpoint_path)\n",
        "    else:\n",
        "        init.run()\n",
        "\n",
        "    for epoch in range(n_epochs):\n",
        "        for iteration in range(1, n_iterations_per_epoch + 1):\n",
        "            X_batch, y_batch = mnist.train.next_batch(batch_size)\n",
        "            # Run the training operation and measure the loss:\n",
        "            _, loss_train = sess.run(\n",
        "                [training_op, loss],\n",
        "                feed_dict={X: X_batch.reshape([-1, 28, 28, 1]),\n",
        "                           y: y_batch,\n",
        "                           mask_with_labels: True})\n",
        "            print(\"\\rIteration: {}/{} ({:.1f}%)  Loss: {:.5f}\".format(\n",
        "                      iteration, n_iterations_per_epoch,\n",
        "                      iteration * 100 / n_iterations_per_epoch,\n",
        "                      loss_train),\n",
        "                  end=\"\")\n",
        "\n",
        "        # At the end of each epoch,\n",
        "        # measure the validation loss and accuracy:\n",
        "        loss_vals = []\n",
        "        acc_vals = []\n",
        "        for iteration in range(1, n_iterations_validation + 1):\n",
        "            X_batch, y_batch = mnist.validation.next_batch(batch_size)\n",
        "            loss_val, acc_val = sess.run(\n",
        "                    [loss, accuracy],\n",
        "                    feed_dict={X: X_batch.reshape([-1, 28, 28, 1]),\n",
        "                               y: y_batch})\n",
        "            loss_vals.append(loss_val)\n",
        "            acc_vals.append(acc_val)\n",
        "            print(\"\\rEvaluating the model: {}/{} ({:.1f}%)\".format(\n",
        "                      iteration, n_iterations_validation,\n",
        "                      iteration * 100 / n_iterations_validation),\n",
        "                  end=\" \" * 10)\n",
        "        loss_val = np.mean(loss_vals)\n",
        "        acc_val = np.mean(acc_vals)\n",
        "        print(\"\\rEpoch: {}  Val accuracy: {:.4f}%  Loss: {:.6f}{}\".format(\n",
        "            epoch + 1, acc_val * 100, loss_val,\n",
        "            \" (improved)\" if loss_val < best_loss_val else \"\"))\n",
        "\n",
        "        # And save the model if it improved:\n",
        "        if loss_val < best_loss_val:\n",
        "            save_path = saver.save(sess, checkpoint_path)\n",
        "            best_loss_val = loss_val"
      ]
    },
    {
      "cell_type": "markdown",
      "metadata": {
        "id": "b7rs7aIrnGL4"
      },
      "source": [
        "Training is finished, we reached over 99.4% accuracy on the validation set after just 5 epochs, things are looking good. Now let's evaluate the model on the test set."
      ]
    },
    {
      "cell_type": "markdown",
      "metadata": {
        "id": "1-s0e90RnGL5"
      },
      "source": [
        "# Evaluation"
      ]
    },
    {
      "cell_type": "code",
      "execution_count": 86,
      "metadata": {
        "id": "Azr2g5EOnGL5",
        "colab": {
          "base_uri": "https://localhost:8080/"
        },
        "outputId": "cc960f89-b1d7-4b7d-8400-8d6274627480"
      },
      "outputs": [
        {
          "output_type": "stream",
          "name": "stdout",
          "text": [
            "Final test accuracy: 99.3000%  Loss: 0.007715\n"
          ]
        }
      ],
      "source": [
        "n_iterations_test = mnist.test.num_examples // batch_size\n",
        "\n",
        "with tf.Session() as sess:\n",
        "    saver.restore(sess, checkpoint_path)\n",
        "\n",
        "    loss_tests = []\n",
        "    acc_tests = []\n",
        "    for iteration in range(1, n_iterations_test + 1):\n",
        "        X_batch, y_batch = mnist.test.next_batch(batch_size)\n",
        "        loss_test, acc_test = sess.run(\n",
        "                [loss, accuracy],\n",
        "                feed_dict={X: X_batch.reshape([-1, 28, 28, 1]),\n",
        "                           y: y_batch})\n",
        "        loss_tests.append(loss_test)\n",
        "        acc_tests.append(acc_test)\n",
        "        print(\"\\rEvaluating the model: {}/{} ({:.1f}%)\".format(\n",
        "                  iteration, n_iterations_test,\n",
        "                  iteration * 100 / n_iterations_test),\n",
        "              end=\" \" * 10)\n",
        "    loss_test = np.mean(loss_tests)\n",
        "    acc_test = np.mean(acc_tests)\n",
        "    print(\"\\rFinal test accuracy: {:.4f}%  Loss: {:.6f}\".format(\n",
        "        acc_test * 100, loss_test))"
      ]
    },
    {
      "cell_type": "markdown",
      "metadata": {
        "id": "1EKtMalsnGL5"
      },
      "source": [
        "We reach 99.53% accuracy on the test set. Pretty nice. :)"
      ]
    },
    {
      "cell_type": "markdown",
      "metadata": {
        "id": "y_yrHRa3nGL5"
      },
      "source": [
        "# Predictions"
      ]
    },
    {
      "cell_type": "markdown",
      "metadata": {
        "id": "9-E_6RlLnGL5"
      },
      "source": [
        "Now let's make some predictions! We first fix a few images from the test set, then we start a session, restore the trained model, evaluate `caps2_output` to get the capsule network's output vectors, `decoder_output` to get the reconstructions, and `y_pred` to get the class predictions:"
      ]
    },
    {
      "cell_type": "code",
      "execution_count": 87,
      "metadata": {
        "id": "QhlEjT3pnGL5"
      },
      "outputs": [],
      "source": [
        "n_samples = 5\n",
        "\n",
        "sample_images = mnist.test.images[:n_samples].reshape([-1, 28, 28, 1])\n",
        "\n",
        "with tf.Session() as sess:\n",
        "    saver.restore(sess, checkpoint_path)\n",
        "    caps2_output_value, decoder_output_value, y_pred_value = sess.run(\n",
        "            [caps2_output, decoder_output, y_pred],\n",
        "            feed_dict={X: sample_images,\n",
        "                       y: np.array([], dtype=np.int64)})"
      ]
    },
    {
      "cell_type": "markdown",
      "metadata": {
        "id": "BZ3S6s3MnGL6"
      },
      "source": [
        "Note: we feed `y` with an empty array, but TensorFlow will not use it, as explained earlier."
      ]
    },
    {
      "cell_type": "markdown",
      "metadata": {
        "id": "R_VATy8wnGL6"
      },
      "source": [
        "And now let's plot the images and their labels, followed by the corresponding reconstructions and predictions:"
      ]
    },
    {
      "cell_type": "code",
      "execution_count": 88,
      "metadata": {
        "id": "px3D5U40nGL6",
        "colab": {
          "base_uri": "https://localhost:8080/",
          "height": 367
        },
        "outputId": "a7fdbb7c-9cbe-44f4-a5b9-c5bca973d10a"
      },
      "outputs": [
        {
          "output_type": "display_data",
          "data": {
            "text/plain": [
              "<Figure size 1000x300 with 5 Axes>"
            ],
            "image/png": "[encoded data removed]"
          },
          "metadata": {}
        },
        {
          "output_type": "display_data",
          "data": {
            "text/plain": [
              "<Figure size 1000x300 with 5 Axes>"
            ],
            "image/png": "[encoded data removed]"
          },
          "metadata": {}
        }
      ],
      "source": [
        "sample_images = sample_images.reshape(-1, 28, 28)\n",
        "reconstructions = decoder_output_value.reshape([-1, 28, 28])\n",
        "\n",
        "plt.figure(figsize=(n_samples * 2, 3))\n",
        "for index in range(n_samples):\n",
        "    plt.subplot(1, n_samples, index + 1)\n",
        "    plt.imshow(sample_images[index], cmap=\"binary\")\n",
        "    plt.title(\"Label:\" + str(mnist.test.labels[index]))\n",
        "    plt.axis(\"off\")\n",
        "\n",
        "plt.show()\n",
        "\n",
        "plt.figure(figsize=(n_samples * 2, 3))\n",
        "for index in range(n_samples):\n",
        "    plt.subplot(1, n_samples, index + 1)\n",
        "    plt.title(\"Predicted:\" + str(y_pred_value[index]))\n",
        "    plt.imshow(reconstructions[index], cmap=\"binary\")\n",
        "    plt.axis(\"off\")\n",
        "\n",
        "plt.show()\n"
      ]
    },
    {
      "cell_type": "markdown",
      "metadata": {
        "id": "G3x2SIpVnGL6"
      },
      "source": [
        "The predictions are all correct, and the reconstructions look great. Hurray!"
      ]
    },
    {
      "cell_type": "markdown",
      "metadata": {
        "id": "mt3U_T7qnGL6"
      },
      "source": [
        "# Interpreting the Output Vectors"
      ]
    },
    {
      "cell_type": "markdown",
      "metadata": {
        "id": "lEvih4Y1nGL6"
      },
      "source": [
        "Let's tweak the output vectors to see what their pose parameters represent."
      ]
    },
    {
      "cell_type": "markdown",
      "metadata": {
        "id": "_n2P9vWlnGL7"
      },
      "source": [
        "First, let's check the shape of the `cap2_output_value` NumPy array:"
      ]
    },
    {
      "cell_type": "code",
      "execution_count": 89,
      "metadata": {
        "id": "hUNNvKTPnGL7",
        "colab": {
          "base_uri": "https://localhost:8080/"
        },
        "outputId": "c159fe14-4ea6-4e99-c180-34cb61b3f5c8"
      },
      "outputs": [
        {
          "output_type": "execute_result",
          "data": {
            "text/plain": [
              "(5, 1, 10, 16, 1)"
            ]
          },
          "metadata": {},
          "execution_count": 89
        }
      ],
      "source": [
        "caps2_output_value.shape"
      ]
    },
    {
      "cell_type": "markdown",
      "metadata": {
        "id": "ntWgTMpxnGL7"
      },
      "source": [
        "Let's create a function that will tweak each of the 16 pose parameters (dimensions) in all output vectors. Each tweaked output vector will be identical to the original output vector, except that one of its pose parameters will be incremented by a value varying from -0.5 to 0.5. By default there will be 11 steps (-0.5, -0.4, ..., +0.4, +0.5). This function will return an array of shape (_tweaked pose parameters_=16, _steps_=11, _batch size_=5, 1, 10, 16, 1):"
      ]
    },
    {
      "cell_type": "code",
      "execution_count": 90,
      "metadata": {
        "id": "60wJh6YBnGL7"
      },
      "outputs": [],
      "source": [
        "def tweak_pose_parameters(output_vectors, min=-0.5, max=0.5, n_steps=11):\n",
        "    steps = np.linspace(min, max, n_steps) # -0.25, -0.15, ..., +0.25\n",
        "    pose_parameters = np.arange(caps2_n_dims) # 0, 1, ..., 15\n",
        "    tweaks = np.zeros([caps2_n_dims, n_steps, 1, 1, 1, caps2_n_dims, 1])\n",
        "    tweaks[pose_parameters, :, 0, 0, 0, pose_parameters, 0] = steps\n",
        "    output_vectors_expanded = output_vectors[np.newaxis, np.newaxis]\n",
        "    return tweaks + output_vectors_expanded"
      ]
    },
    {
      "cell_type": "markdown",
      "metadata": {
        "id": "NOkqLADXnGL7"
      },
      "source": [
        "Let's compute all the tweaked output vectors and reshape the result to (_parameters_×_steps_×_instances_, 1, 10, 16, 1) so we can feed the array to the decoder:"
      ]
    },
    {
      "cell_type": "code",
      "execution_count": 81,
      "metadata": {
        "id": "OYq5u4WlnGL7"
      },
      "outputs": [],
      "source": [
        "n_steps = 11\n",
        "\n",
        "tweaked_vectors = tweak_pose_parameters(caps2_output_value, n_steps=n_steps)\n",
        "tweaked_vectors_reshaped = tweaked_vectors.reshape(\n",
        "    [-1, 1, caps2_n_caps, caps2_n_dims, 1])"
      ]
    },
    {
      "cell_type": "markdown",
      "metadata": {
        "id": "QUyqTz5dnGL8"
      },
      "source": [
        "Now let's feed these tweaked output vectors to the decoder and get the reconstructions it produces:"
      ]
    },
    {
      "cell_type": "code",
      "execution_count": 82,
      "metadata": {
        "id": "QwyigMgInGL8"
      },
      "outputs": [],
      "source": [
        "tweak_labels = np.tile(mnist.test.labels[:n_samples], caps2_n_dims * n_steps)\n",
        "\n",
        "with tf.Session() as sess:\n",
        "    saver.restore(sess, checkpoint_path)\n",
        "    decoder_output_value = sess.run(\n",
        "            decoder_output,\n",
        "            feed_dict={caps2_output: tweaked_vectors_reshaped,\n",
        "                       mask_with_labels: True,\n",
        "                       y: tweak_labels})"
      ]
    },
    {
      "cell_type": "markdown",
      "metadata": {
        "id": "wPWyC1tMnGL8"
      },
      "source": [
        "Let's reshape the decoder's output so we can easily iterate on the output dimension, the tweak steps, and the instances:"
      ]
    },
    {
      "cell_type": "code",
      "execution_count": 83,
      "metadata": {
        "id": "qpRg5LpynGL8"
      },
      "outputs": [],
      "source": [
        "tweak_reconstructions = decoder_output_value.reshape(\n",
        "        [caps2_n_dims, n_steps, n_samples, 28, 28])"
      ]
    },
    {
      "cell_type": "markdown",
      "metadata": {
        "id": "vXdDGw2dnGL8"
      },
      "source": [
        "Lastly, let's plot all the reconstructions, for the first 3 output dimensions, for each tweaking step (column) and each digit (row):"
      ]
    },
    {
      "cell_type": "code",
      "execution_count": 84,
      "metadata": {
        "id": "fQVXy_b_nGL9",
        "colab": {
          "base_uri": "https://localhost:8080/",
          "height": 897
        },
        "outputId": "7c1352da-6132-4e0b-be0f-e6c0c722c9ff"
      },
      "outputs": [
        {
          "output_type": "stream",
          "name": "stdout",
          "text": [
            "Tweaking output dimension #0\n"
          ]
        },
        {
          "output_type": "display_data",
          "data": {
            "text/plain": [
              "<Figure size 916.667x333.333 with 55 Axes>"
            ],
            "image/png": "[encoded data removed]"
          },
          "metadata": {}
        },
        {
          "output_type": "stream",
          "name": "stdout",
          "text": [
            "Tweaking output dimension #1\n"
          ]
        },
        {
          "output_type": "display_data",
          "data": {
            "text/plain": [
              "<Figure size 916.667x333.333 with 55 Axes>"
            ],
            "image/png": "[encoded data removed]"
          },
          "metadata": {}
        },
        {
          "output_type": "stream",
          "name": "stdout",
          "text": [
            "Tweaking output dimension #2\n"
          ]
        },
        {
          "output_type": "display_data",
          "data": {
            "text/plain": [
              "<Figure size 916.667x333.333 with 55 Axes>"
            ],
            "image/png": "[encoded data removed]"
          },
          "metadata": {}
        }
      ],
      "source": [
        "for dim in range(3):\n",
        "    print(\"Tweaking output dimension #{}\".format(dim))\n",
        "    plt.figure(figsize=(n_steps / 1.2, n_samples / 1.5))\n",
        "    for row in range(n_samples):\n",
        "        for col in range(n_steps):\n",
        "            plt.subplot(n_samples, n_steps, row * n_steps + col + 1)\n",
        "            plt.imshow(tweak_reconstructions[dim, col, row], cmap=\"binary\")\n",
        "            plt.axis(\"off\")\n",
        "    plt.show()"
      ]
    },
    {
      "cell_type": "code",
      "execution_count": 84,
      "metadata": {
        "id": "aGvjzbGZnGL9"
      },
      "outputs": [],
      "source": []
    }
  ],
  "metadata": {
    "kernelspec": {
      "display_name": "Python 3",
      "name": "python3"
    },
    "language_info": {
      "codemirror_mode": {
        "name": "ipython",
        "version": 3
      },
      "file_extension": ".py",
      "mimetype": "text/x-python",
      "name": "python",
      "nbconvert_exporter": "python",
      "pygments_lexer": "ipython3",
      "version": "3.7.10"
    },
    "colab": {
      "provenance": [],
      "gpuType": "T4",
      "include_colab_link": true
    },
    "accelerator": "GPU"
  },
  "nbformat": 4,
  "nbformat_minor": 0
}